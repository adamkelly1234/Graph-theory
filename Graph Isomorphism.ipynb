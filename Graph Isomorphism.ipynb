{
 "cells": [
  {
   "cell_type": "markdown",
   "id": "76b43298",
   "metadata": {},
   "source": [
    "<h1>Graph Isomorphism Definition</h1>\n",
    "<hr></hr>\n",
    "<p>What does the term \"isomorphism of graphs\" mean? It is claimed that two graphs are isomorphic if they have the same number of graph vertices connected in the same manner. If there is a permutation of such that is in the set of graph edges iff is in the set of graph edges, then two graphs and with graph vertices are said to be isomorphic informally.</p>\n",
    "<br></br>\n",
    "<h1>Specification of the Graph Isomorphism Problem</h1>\n",
    "<hr></hr>\n",
    "<p>The computational challenge of identifying whether or not two graphs are isomorphic is known as the graph isomorphism issue. Two graphs must be identical yet drawn differently in order to be deemed isomorphic. They need to have an equal number of edges and vertices. Additionally, their degree sequence must match. Additionally, the identical number of circuits of a specific length\n",
    "\n",
    "If the graph isomorphism can be solved in polynomial time is unknown.\n",
    "\n",
    "Due to the fact that the graph isomorphism issue is neither NP-complete nor P, it is believed to be NP-intermediate.\n",
    "The computational complexity theory's NP class, which stands for nondeterministic polynomial time, is used to categorize decisions. The class of decision-making issues known as NP are those that a nondeterministic Turing machine can answer in polynomial time. Alternately, where the solution to the issue cases is \"yes\" and the proof can be checked by a deterministic Turing machine in polynomial time.\n",
    "\n",
    "\n",
    "\n",
    "The graph isomorphism problem is known to be in the low hierarchy of class NP, which suggests that it isn't NP-complete unless the polynomial time hierarchy collapses to its second level. In addition, isomorphism for a large number of particular types of graphs can be done in polynomial time.\n",
    "\n",
    "This issue is a particular instance of the subgraph isomorphism issue. The subgraph isomorphism problem, which is a computational task in computer science, asks whether G includes a subgraph that is isomorphic to H. Two graphs, G and H, are provided as input. The challenge of determining whether a graph contains a Hamiltonian cycle and the maximum clique problem are both generalized in the subgraph isomorphism problem, which makes it NP-complete. Other subgraph isomorphism scenarios, though, can be resolved in polynomial time. The similar issue is occasionally solved via name-subgraph matching. Instead than focusing on the pure choice problem, this name emphasizes discovering such a subgraph.</p>\n",
    "\n"
   ]
  },
  {
   "cell_type": "code",
   "execution_count": 1,
   "id": "2afa3cf0",
   "metadata": {},
   "outputs": [],
   "source": [
    "# Plots.\n",
    "import matplotlib.pyplot as plt"
   ]
  },
  {
   "cell_type": "code",
   "execution_count": 2,
   "id": "138ac975",
   "metadata": {},
   "outputs": [],
   "source": [
    "# Resize plots.\n",
    "plt.rcParams['figure.figsize'] = (5, 5)"
   ]
  },
  {
   "cell_type": "code",
   "execution_count": 3,
   "id": "adfab841",
   "metadata": {},
   "outputs": [],
   "source": [
    "# Matrices.\n",
    "import numpy as np\n"
   ]
  },
  {
   "cell_type": "code",
   "execution_count": 4,
   "id": "c3f92db3",
   "metadata": {},
   "outputs": [],
   "source": [
    "# Permutations\n",
    "import itertools as it"
   ]
  },
  {
   "cell_type": "code",
   "execution_count": 5,
   "id": "4702a528",
   "metadata": {},
   "outputs": [],
   "source": [
    "# Graphs.\n",
    "import networkx as nx"
   ]
  },
  {
   "cell_type": "code",
   "execution_count": 6,
   "id": "225f20cd",
   "metadata": {},
   "outputs": [],
   "source": [
    "# Math.\n",
    "import math\n"
   ]
  },
  {
   "cell_type": "code",
   "execution_count": 7,
   "id": "4f8c77b9",
   "metadata": {},
   "outputs": [],
   "source": [
    "# Networkx drawing parameters.\n",
    "params = {'node_color': 'red', 'node_size': 800, 'font_size': 18, 'with_labels': True}"
   ]
  },
  {
   "cell_type": "code",
   "execution_count": 8,
   "id": "7ed939ff",
   "metadata": {},
   "outputs": [],
   "source": [
    "# Create an empty graph.\n",
    "G = nx.Graph()"
   ]
  },
  {
   "cell_type": "code",
   "execution_count": 9,
   "id": "dc70b8b8",
   "metadata": {},
   "outputs": [],
   "source": [
    "# Create a set of edges.\n",
    "E1 = ((0,1), (0,2), (0,3), (1,2))"
   ]
  },
  {
   "cell_type": "code",
   "execution_count": 10,
   "id": "8bd5b64e",
   "metadata": {},
   "outputs": [],
   "source": [
    "# Incorporate the edges in G.\n",
    "# The nodes are just created as needed, based on E1.\n",
    "G.add_edges_from(E1)"
   ]
  },
  {
   "cell_type": "code",
   "execution_count": 11,
   "id": "65d6ac93",
   "metadata": {},
   "outputs": [
    {
     "data": {
      "image/png": "[encoded data removed]",
      "text/plain": [
       "<Figure size 360x360 with 1 Axes>"
      ]
     },
     "metadata": {},
     "output_type": "display_data"
    }
   ],
   "source": [
    "# Draw G.\n",
    "nx.draw_circular(G, **params)"
   ]
  },
  {
   "cell_type": "code",
   "execution_count": 12,
   "id": "a4ebd621",
   "metadata": {},
   "outputs": [],
   "source": [
    "# Create an additional empty graph.\n",
    "H = nx.Graph()"
   ]
  },
  {
   "cell_type": "code",
   "execution_count": 13,
   "id": "92523967",
   "metadata": {},
   "outputs": [],
   "source": [
    "# Create a set of edges.\n",
    "E2 = ((0,1), (0,2), (0,3), (1,2))"
   ]
  },
  {
   "cell_type": "code",
   "execution_count": 14,
   "id": "8970b148",
   "metadata": {},
   "outputs": [],
   "source": [
    "# Incorporate the edges in H.\n",
    "# The nodes are just created as needed, based on E2.\n",
    "H.add_edges_from(E2)"
   ]
  },
  {
   "cell_type": "code",
   "execution_count": 15,
   "id": "50630973",
   "metadata": {
    "scrolled": false
   },
   "outputs": [
    {
     "data": {
      "image/png": "[encoded data removed]",
      "text/plain": [
       "<Figure size 360x360 with 1 Axes>"
      ]
     },
     "metadata": {},
     "output_type": "display_data"
    }
   ],
   "source": [
    "# Draw H.\n",
    "nx.draw_circular(H, **params)"
   ]
  },
  {
   "cell_type": "markdown",
   "id": "b67c47c6",
   "metadata": {},
   "source": [
    "<hr></hr>\n",
    "<h3>Function to detremine if the graphs are Isomorphic</h3>"
   ]
  },
  {
   "cell_type": "code",
   "execution_count": 16,
   "id": "195ebf65",
   "metadata": {},
   "outputs": [
    {
     "data": {
      "text/plain": [
       "array([[0, 1, 1, 1],\n",
       "       [1, 0, 1, 0],\n",
       "       [1, 1, 0, 0],\n",
       "       [1, 0, 0, 0]], dtype=uint8)"
      ]
     },
     "execution_count": 16,
     "metadata": {},
     "output_type": "execute_result"
    }
   ],
   "source": [
    "#Converts graph G to an array\n",
    "A = nx.to_numpy_array(G).astype(np.uint8)\n",
    "A"
   ]
  },
  {
   "cell_type": "code",
   "execution_count": 17,
   "id": "dffda713",
   "metadata": {},
   "outputs": [
    {
     "data": {
      "text/plain": [
       "array([[0, 1, 1, 1],\n",
       "       [1, 0, 1, 0],\n",
       "       [1, 1, 0, 0],\n",
       "       [1, 0, 0, 0]], dtype=uint8)"
      ]
     },
     "execution_count": 17,
     "metadata": {},
     "output_type": "execute_result"
    }
   ],
   "source": [
    "#Converts graph H to an array\n",
    "B = nx.to_numpy_array(H).astype(np.uint8)\n",
    "B"
   ]
  },
  {
   "cell_type": "markdown",
   "id": "5e1f7866",
   "metadata": {},
   "source": [
    "<p>When taking graph G and implementing it as an array and taking graph H as an array we can see from my example above\n",
    "that when printed out the result is the exact same. With our two answers resulting the same as one another this confirms that\n",
    "these two graphs are isomorphic</p>"
   ]
  },
  {
   "cell_type": "markdown",
   "id": "0a45aa3c",
   "metadata": {},
   "source": [
    "\n",
    "<hr></hr>"
   ]
  },
  {
   "cell_type": "markdown",
   "id": "84058b92",
   "metadata": {},
   "source": [
    "<h1>Graph Isomorphism Definition</h1>\n",
    "<hr></hr>\n",
    "<p>The graph isomorphism problem is regarded to be NP-intermediate because it is neither NP-complete nor P, as was previously asserted.\n",
    "\n",
    "Being in the NP class allows you to provide a concise argument that can be verified in polynomial time that two graphs are isomorphic.\n",
    "\n",
    "The NP-complete class of problems is thought to contain the hardest NP-related puzzles. A problem must have all feasible solutions in order for it to be deemed NP-complete, and a brute-force search algorithm may swiftly verify the validity of each answer in a polynomial amount of time. The majority of NP-complete issues that concern us also fall into this category.If P = NP, then the subject of graph isomorphism is irrelevant. However, given that the majority of people think P and NP are not equivalent, the remaining question is whether graph isomorphism has an efficient method.</p>"
   ]
  },
  {
   "cell_type": "markdown",
   "id": "ab0314b0",
   "metadata": {},
   "source": [
    "<h1>Why computer scientists are interested in the complexity of the Graph Isomorphism Problem</h1>\n",
    "<hr></hr>\n",
    "<p>Examining every arrangement of the nodes in one graph with those in the other is a quick way to determine if two graphs are isomorphic. However, for graphs with n nodes, there are n factorial (n n-1 n-2... 1) possible matches, which means there are so many possibilities that applying this brute force method in practice is impossible (e.g. a small graph with 5 nodes will result in 120 possibilities and a graph with 10 nodes will result in over 3.6 million possibilities).\n",
    "\n",
    "Because factorial grows at a far faster pace than polynomial, computer scientists prefer algorithms described in polynomial time  rather than factorial time.\n",
    "    \n",
    "P is a fundamental complexity class in computational complexity theory and refers to problems with polynomial time algorithms. It includes every decision problem that can be resolved by a deterministic Turing machine in polynomial time or polynomial computation. Computer scientists consider NP-complete issues to be difficult and problems in the P language to be comparatively simple. Most computer scientists think there will never be an effective algorithm for an NP-complete problem because one has never been discovered.\n",
    "\n",
    "It is unknown whether the graph isomorphism problem belongs in the class P or NP-complete; instead, it appears to fall somewhere in between the two. One of the few natural issues that falls into this limbo is this one.</p>"
   ]
  },
  {
   "cell_type": "markdown",
   "id": "45a44e48",
   "metadata": {},
   "source": [
    "<hr></hr>\n",
    "<h1>References</h1>\n",
    "<hr></hr>\n",
    "<h4>[1] <a href=\"https://www.geeksforgeeks.org/mathematics-graph-isomorphisms-connectivity/\">https://www.geeksforgeeks.org/mathematics-graph-isomorphisms-connectivity/</a></h4>\n",
    "<h4>[2] <a href=\"https://en.wikipedia.org/wiki/Graph_isomorphism_problem\">en.wikipedia.org/wiki/Graph_isomorphism_problem</a></h4>\n",
    "<h4>[3] <a href=\"https://www.mygreatlearning.com/blog/representing-graphs-in-data-structures/#:~:text=A%20graph%20can%20be%20represented,the%20nodes%20of%20a%20graph\">www.mygreatlearning.com/blog/representing-graphs-in-data-structures</a></h4>\n",
    "<h4>[4] <a href=\"https://mathworld.wolfram.com/IsomorphicGraphs.html\">mathworld.wolfram.com/IsomorphicGraphs</a></h4>"
   ]
  }
 ],
 "metadata": {
  "kernelspec": {
   "display_name": "Python 3 (ipykernel)",
   "language": "python",
   "name": "python3"
  },
  "language_info": {
   "codemirror_mode": {
    "name": "ipython",
    "version": 3
   },
   "file_extension": ".py",
   "mimetype": "text/x-python",
   "name": "python",
   "nbconvert_exporter": "python",
   "pygments_lexer": "ipython3",
   "version": "3.9.12"
  }
 },
 "nbformat": 4,
 "nbformat_minor": 5
}
