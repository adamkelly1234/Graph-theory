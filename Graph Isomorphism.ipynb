
{
 "cells": [
  {
   "cell_type": "code",
   "execution_count": 1,
   "id": "2afa3cf0",
   "metadata": {},
   "outputs": [],
   "source": [
    "# Plots.\n",
    "import matplotlib.pyplot as plt"
   ]
  },
  {
   "cell_type": "code",
   "execution_count": 2,
   "id": "138ac975",
   "metadata": {},
   "outputs": [],
   "source": [
    "# Resize plots.\n",
    "plt.rcParams['figure.figsize'] = (5, 5)"
   ]
  },
  {
   "cell_type": "code",
   "execution_count": 3,
   "id": "adfab841",
   "metadata": {},
   "outputs": [],
   "source": [
    "# Matrices.\n",
    "import numpy as np\n"
   ]
  },
  {
   "cell_type": "code",
   "execution_count": 4,
   "id": "c3f92db3",
   "metadata": {},
   "outputs": [],
   "source": [
    "# Permutations\n",
    "import itertools as it"
   ]
  },
  {
   "cell_type": "code",
   "execution_count": 5,
   "id": "4702a528",
   "metadata": {},
   "outputs": [],
   "source": [
    "# Graphs.\n",
    "import networkx as nx"
   ]
  },
  {
   "cell_type": "code",
   "execution_count": 6,
   "id": "225f20cd",
   "metadata": {},
   "outputs": [],
   "source": [
    "# Math.\n",
    "import math\n"
   ]
  },
  {
   "cell_type": "code",
   "execution_count": 7,
   "id": "4f8c77b9",
   "metadata": {},
   "outputs": [],
   "source": [
    "# Networkx drawing parameters.\n",
    "params = {'node_color': 'red', 'node_size': 800, 'font_size': 18, 'with_labels': True}"
   ]
  },
  {
   "cell_type": "code",
   "execution_count": 8,
   "id": "7ed939ff",
   "metadata": {},
   "outputs": [],
   "source": [
    "# Create an empty graph.\n",
    "G = nx.Graph()"
   ]
  },
  {
   "cell_type": "code",
   "execution_count": 9,
   "id": "dc70b8b8",
   "metadata": {},
   "outputs": [],
   "source": [
    "# Create a set of edges.\n",
    "E1 = ((0, 1), (1, 2), (0, 2))"
   ]
  },
  {
   "cell_type": "code",
   "execution_count": 10,
   "id": "8bd5b64e",
   "metadata": {},
   "outputs": [],
   "source": [
    "# Incorporate the edges in G.\n",
    "# The nodes are just created as needed, based on E1.\n",
    "G.add_edges_from(E1)"
   ]
  },
  {
   "cell_type": "code",
   "execution_count": 11,
   "id": "65d6ac93",
   "metadata": {},
   "outputs": [
    {
     "data": {
      "image/png": "[encoded data removed]",
      "text/plain": [
       "<Figure size 360x360 with 1 Axes>"
      ]
     },
     "metadata": {},
     "output_type": "display_data"
    }
   ],
   "source": [
    "# Draw G.\n",
    "nx.draw_circular(G, **params)"
   ]
  },
  {
   "cell_type": "code",
   "execution_count": 12,
   "id": "a4ebd621",
   "metadata": {},
   "outputs": [],
   "source": [
    "# Create an additional empty graph.\n",
    "H = nx.Graph()"
   ]
  },
  {
   "cell_type": "code",
   "execution_count": 13,
   "id": "92523967",
   "metadata": {},
   "outputs": [],
   "source": [
    "# Create a set of edges.\n",
    "E2 = ((1, 0), (1, 2), (2, 0))"
   ]
  },
  {
   "cell_type": "code",
   "execution_count": 14,
   "id": "8970b148",
   "metadata": {},
   "outputs": [],
   "source": [
    "# Incorporate the edges in H.\n",
    "# The nodes are just created as needed, based on E2.\n",
    "H.add_edges_from(E2)"
   ]
  },
  {
   "cell_type": "code",
   "execution_count": 15,
   "id": "50630973",
   "metadata": {},
   "outputs": [
    {
     "data": {
      "image/png": "[encoded data removed]",
      "text/plain": [
       "<Figure size 360x360 with 1 Axes>"
      ]
     },
     "metadata": {},
     "output_type": "display_data"
    }
   ],
   "source": [
    "# Draw H.\n",
    "nx.draw_circular(H, **params)"
   ]
  },
  {
   "cell_type": "code",
   "execution_count": null,
   "id": "7656e94a",
   "metadata": {},
   "outputs": [],
   "source": []
  }
 ],
 "metadata": {
  "kernelspec": {
   "display_name": "Python 3 (ipykernel)",
   "language": "python",
   "name": "python3"
  },
  "language_info": {
   "codemirror_mode": {
    "name": "ipython",
    "version": 3
   },
   "file_extension": ".py",
   "mimetype": "text/x-python",
   "name": "python",
   "nbconvert_exporter": "python",
   "pygments_lexer": "ipython3",
   "version": "3.9.12"
  }
 },
 "nbformat": 4,
 "nbformat_minor": 5
}
