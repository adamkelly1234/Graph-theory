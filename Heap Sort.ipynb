{
 "cells": [
  {
   "cell_type": "markdown",
   "id": "99c3836c",
   "metadata": {},
   "source": [
    "<h1>Heap Sort</h1>\n",
    "<hr></hr>\n",
    "<p><b>What is heap sort?</b>Heap sort is a comparison-based sorting technique based on Binary Heap data structure. It is similar to the selection sort where we first find the minimum element and place the minimum element at the beginning. Repeat the same process for the remaining elements.\n",
    "https://www.geeksforgeeks.org/heap-sort/\n",
    "    <br>\n",
    "Heapsort is a popular and efficient sorting algorithm used to arrange a list of elements in order. It uses the tree concept, Heap Tree. This is when a list of elements are sorted in descending order called max heap or min heap, when a list of elements are sorted in ascending order.</p></br>"
   ]
  },
  {
   "cell_type": "markdown",
   "id": "707adb23",
   "metadata": {},
   "source": [
    "<h1>Rooted Binary Tree</h1>\n",
    "<hr></hr>\n",
    "<p>A binary tree is a rooted planar tree (one vertex\n",
    "is labelled as the root and the tree is embedded in the plane with root\n",
    "at the top) in which every node has two daughters, a left daughter and\n",
    "a right daughter.\n",
    "A tree is a connected graph with n vertices and n − 1 edges. So, I\n",
    "stated with the definition of graph and connectedness. A graph is a\n",
    "set of points connected by edges.\n",
    "https://people.brandeis.edu/~igusa/Math47aF08/M47F08Note09c1.pdf</p>\n",
    "<p>\n",
    "A tree having a root of degree 2 and all other nodes of degree 3 is referred to as a rooted binary tree. The tree should be planar, which means that its leaves should be at the bottom and its root should be at the top of the x-y plane. Each trivalent node has two below and one above vertices that are referred to as the left and right daughters, respectively.\n",
    "<img src=\"https://www.gatevidyalay.com/wp-content/uploads/2018/07/Rooted-Binary-Tree-Example.png\"></p></br>"
   ]
  },
  {
   "cell_type": "markdown",
   "id": "5a2965d1",
   "metadata": {},
   "source": [
    "<hr></hr>\n",
    "<h1>Heap Sort Algorithim</h1>\n",
    "<hr></hr>\n",
    "<p>The array is sorted in ascending order as the first step in the heap sort algorithm. Our array should be seen as a binary tree, and a max-heap should be made.\n",
    "\n",
    "The next step is to heapify the tree using the elements in the unsorted area of the array. The method of generating heap data structures from our binary tree is known as heapify. It is necessary for the development of the earlier illustrated Max/Min-Heaps.\n",
    "\n",
    "The root element will be taken out of the heap when it has been constructed and assigned to the array's sorted area. This guarantees that every time an element is retrieved from a max-heap, the largest element will be obtained from the unsorted zone.<img src=\"https://www.baeldung.com/wp-content/uploads/sites/4/2020/11/1-4-1024x434.png\"></p>"
   ]
  },
  {
   "cell_type": "markdown",
   "id": "926b2115",
   "metadata": {},
   "source": [
    "<br></br>\n",
    "<h1>Difference between Max and Min heap</h1>\n",
    "<hr></hr>\n",
    "<p>Whether the parent nodes are more than or fewer than the children nodes determines whether Min-Heap or Max-Heap is used. The heap is referred to as a Max-Heap if the parent node is bigger than the child node. The list of elements is arranged in descending order because the first element in the tree is the largest. The term \"Min-Heap\" refers to nodes where the parent nodes are smaller than the children's nodes. When we wish to sort lists in ascending order, we utilize this method. Always the smallest is the first element.</p>\n",
    "<br></br>\n",
    "<h2>Max Heap</h2>\n",
    "<p>In a Max Heap the key present at the root node must be greater than or equal to among the keys present at all of its children. The maximun key element must be present at the root of the tree and use a descending priority. In the construction of a max heap, the largest element has priority.</p>\n",
    "<br></br>\n",
    "<h2>Min Heap</h2>\n",
    "<p>The key presented at the root node of a Min Heap must be smaller than or equal to the key presented at all of its children. The three elements must be arranged in ascending order, with the minimum key element being present at the root. When building a min heap, the smallest element takes precedence.</p>"
   ]
  },
  {
   "cell_type": "markdown",
   "id": "2748f622",
   "metadata": {},
   "source": [
    "<hr></hr>\n",
    "<h1>Implementing heapsort in Python</h1>\n",
    "<hr></hr>\n",
    "<p>We can now talk about the heap sort algorithm's coding implementation after learning about it. To clarify my knowledge, I have utilized both the code from my lecture and code from a website.</p>\n",
    "<p>Heapsort is an efficient, unstable sorting algorithm with an average, best-case, and worst-case time complexity of O(n log n).</p>"
   ]
  },
  {
   "cell_type": "code",
   "execution_count": 1,
   "id": "87cd2afb",
   "metadata": {},
   "outputs": [],
   "source": [
    "# The list must satisfy the properties of a max heap\n",
    "def max_heapify(L, parent, end):\n",
    "    \n",
    "    #Keep track of the number of comparisons\n",
    "    no_comparisons = 0;\n",
    "    \n",
    "    # Checking that the parent is actually a parent (has at least one child).\n",
    "    while 2*parent+1 <=end:\n",
    "        # The indices of the children from the parent\n",
    "        left = 2 * parent + 1\n",
    "        right = 2 * parent + 2\n",
    "    \n",
    "        # Assume the parent is larger than the children\n",
    "        largest = parent\n",
    "    \n",
    "        # Checking if the parent is smaller than the left child\n",
    "        if L[largest] < L[left]:\n",
    "            # Then largest is set to the index of the left child\n",
    "            largest = left\n",
    "            # Increment no_comparisons\n",
    "            no_comparisons = no_comparisons + 1\n",
    "           \n",
    "        # Check then if the right child exists and if it is smaller than the parent.\n",
    "        if right <= end and L[largest] < L[right]:\n",
    "        \n",
    "            # Then swap is set to the index of the right child\n",
    "            largest = right\n",
    "            # Increment no_comparisons\n",
    "            no_comparisons = no_comparisons + 1\n",
    "        \n",
    "        # We have a Max Heap if the parnt is bigger than the children\n",
    "        if largest == parent:\n",
    "            break\n",
    "        else:\n",
    "            # Swap the parent with the bigger child\n",
    "            L[parent], L[largest] = L[largest], L[parent]\n",
    "            # Set the parent with the bigger child\n",
    "            parent = largest\n",
    "    \n",
    "    # Return the number of comparisons\n",
    "    return no_comparisons\n"
   ]
  },
  {
   "cell_type": "code",
   "execution_count": 2,
   "id": "92d08ec1",
   "metadata": {},
   "outputs": [],
   "source": [
    "def heapsort(L):\n",
    "    \"\"\"Sorts the list L in-place using Heap Sort\"\"\"  \n",
    "    \n",
    "    # Keep track of the number of comparisons\n",
    "    no_comparisons = 0\n",
    "    \n",
    "    # Turn L into max heap\n",
    "    # Index of the last element\n",
    "    last_element = len(L) - 1\n",
    "    \n",
    "    # Find the last parent\n",
    "    last_parent = (last_element - 1) // 2\n",
    "    # Loop backwards through all parents\n",
    "    for parent in range(last_parent, -1, -1):\n",
    "        # Sift down\n",
    "        no_comparisons = no_comparisons + max_heapify(L, parent, last_element)\n",
    "    \n",
    "    # Segregate the list L into two parts:\n",
    "    #   1. L[:end] is the max heap\n",
    "    #   2. Each Element beyond end is greater than everything before it.\n",
    "    # While there are still elements in the heap\n",
    "    for end in range(last_element, 0, -1):\n",
    "        # Swap the element at index 0 with the element at index end\n",
    "        L[0], L[end] = L[end], L[0]\n",
    "        # Fix the heap - root is currently out of place\n",
    "        no_comparisons = no_comparisons + max_heapify(L, 0, end - 1)\n",
    "        \n",
    "    # Return the number of comparisons\n",
    "    return no_comparisons"
   ]
  },
  {
   "cell_type": "code",
   "execution_count": 3,
   "id": "7b20ed84",
   "metadata": {},
   "outputs": [
    {
     "data": {
      "text/plain": [
       "[6, 24, 23, 18, 41, 44, 28, 45, 9, 5]"
      ]
     },
     "execution_count": 3,
     "metadata": {},
     "output_type": "execute_result"
    }
   ],
   "source": [
    "# Generate random numbers for the list of elements.\n",
    "import random\n",
    "L = random.sample(range(1,50), 10)\n",
    "L"
   ]
  },
  {
   "cell_type": "code",
   "execution_count": 4,
   "id": "4791886b",
   "metadata": {},
   "outputs": [
    {
     "data": {
      "text/plain": [
       "[5, 6, 9, 18, 23, 24, 28, 41, 44, 45]"
      ]
     },
     "execution_count": 4,
     "metadata": {},
     "output_type": "execute_result"
    }
   ],
   "source": [
    "# Show how heap sort works \n",
    "heapsort(L)\n",
    "L"
   ]
  },
  {
   "cell_type": "code",
   "execution_count": 5,
   "id": "8fdc244c",
   "metadata": {},
   "outputs": [
    {
     "data": {
      "text/plain": [
       "[45, 44, 41, 28, 24, 23, 18, 9, 6, 5]"
      ]
     },
     "execution_count": 5,
     "metadata": {},
     "output_type": "execute_result"
    }
   ],
   "source": [
    "# Reverse the list in order to draw a visual representation of a max-heap\n",
    "L.reverse()\n",
    "L"
   ]
  },
  {
   "cell_type": "markdown",
   "id": "3f2ef8cb",
   "metadata": {},
   "source": [
    "<hr></hr>\n",
    "<h1>Comparison of Bubble and Heap Sort</h1>\n",
    "<hr></hr>"
   ]
  },
  {
   "cell_type": "markdown",
   "id": "019e697d",
   "metadata": {},
   "source": [
    "<h2>Bubble Sort</h2>\n",
    "<p>If the number on the left is greater than the number on the right, the pair is switched, and the larger number is now on the right of the list, and this is how Bubble Sort works. It looks at neighboring pairs in a list and compares them to see which one is larger. Depending on how long the list is, going through it may need several iterations. The list will then be sorted from smallest to largest by performing this, which causes the larger numbers to bubble to the left and give rise to the name bubble sort. The worst-case temporal complexity of the bubble sort is O. (n2). Check out the illustration below for a better idea.</p>\n",
    "<br></br>\n",
    "<h4>An example of bubble sort</h4>"
   ]
  },
  {
   "cell_type": "code",
   "execution_count": 6,
   "id": "bbeba7ea",
   "metadata": {},
   "outputs": [],
   "source": [
    "# First we need to import Random from the library as we will be using it later.\n",
    "import random"
   ]
  },
  {
   "cell_type": "code",
   "execution_count": 7,
   "id": "57eedbb8",
   "metadata": {},
   "outputs": [
    {
     "data": {
      "text/plain": [
       "[1, 2, 3, 4, 5, 6, 7, 8, 9, 10, 11, 12, 13, 14]"
      ]
     },
     "execution_count": 7,
     "metadata": {},
     "output_type": "execute_result"
    }
   ],
   "source": [
    "# Create a simple list of numbers.\n",
    "L = list(range(1, 15))\n",
    "L"
   ]
  },
  {
   "cell_type": "code",
   "execution_count": 8,
   "id": "1e834458",
   "metadata": {},
   "outputs": [
    {
     "data": {
      "text/plain": [
       "[6, 3, 11, 14, 9, 7, 4, 12, 2, 13, 10, 8, 5, 1]"
      ]
     },
     "execution_count": 8,
     "metadata": {},
     "output_type": "execute_result"
    }
   ],
   "source": [
    "# Shuffle the list and call it.\n",
    "random.shuffle(L)\n",
    "L"
   ]
  },
  {
   "cell_type": "code",
   "execution_count": 9,
   "id": "2552092f",
   "metadata": {},
   "outputs": [],
   "source": [
    "# Create the function\n",
    "def bubble_sort(L):\n",
    "    # Keep track of number of comparisons in the list.\n",
    "    no_comparisons = 0\n",
    "\n",
    "    # Bubble the larger element up.\n",
    "    for j in range(len(L) - 1):\n",
    "        # Keep track of any swaps.\n",
    "        swapped = False\n",
    "        # Compare all elements that are adjacent.\n",
    "        for i in range(len(L) - 1 - j):\n",
    "            # Compare the ith element with the (i+1)th.\n",
    "            if L[i] > L[i+1]:\n",
    "                # Swap the elements.\n",
    "                L[i], L[i+1] = L[i+1], L[i]\n",
    "                # Keep track of the swap.\n",
    "                swapped = True\n",
    "            # Add a comparison.\n",
    "            no_comparisons = no_comparisons + 1\n",
    "        # if there was no swaps quit.\n",
    "        if not swapped:\n",
    "            break\n",
    "    # Return the number of comparisons made.\n",
    "    return no_comparisons"
   ]
  },
  {
   "cell_type": "code",
   "execution_count": 10,
   "id": "437de13b",
   "metadata": {},
   "outputs": [
    {
     "data": {
      "text/plain": [
       "91"
      ]
     },
     "execution_count": 10,
     "metadata": {},
     "output_type": "execute_result"
    }
   ],
   "source": [
    "#call the function\n",
    "bubble_sort(L)\n",
    "#This will sort the list and print the number of comparisons"
   ]
  },
  {
   "cell_type": "code",
   "execution_count": 11,
   "id": "7fcd6c6d",
   "metadata": {},
   "outputs": [
    {
     "data": {
      "text/plain": [
       "[1, 2, 3, 4, 5, 6, 7, 8, 9, 10, 11, 12, 13, 14]"
      ]
     },
     "execution_count": 11,
     "metadata": {},
     "output_type": "execute_result"
    }
   ],
   "source": [
    "#now we can call the sorted list \n",
    "L"
   ]
  },
  {
   "cell_type": "markdown",
   "id": "8fc6c520",
   "metadata": {},
   "source": [
    "<img src=\"https://www.researchgate.net/profile/Potturi-Reshma-2/publication/348959084/figure/fig1/AS:986621331652608@1612240264456/Working-procedure-of-Bubble-Sort.ppm\">"
   ]
  },
  {
   "cell_type": "markdown",
   "id": "6b7e77ea",
   "metadata": {},
   "source": [
    "<h2>Worst Case</h2>\n",
    "<p>This is the best-case situation, even though bubble sort has a time complexity of O(n) and can be quite quick. Depending on the situation, the algorithm may take much longer. When the entire array needs to be sorted, the worst-case bubble sort algorithm gives us a time complexity of O. ().\n",
    "\n",
    "However, the time complexity of the heapsort algorithm is consistently O. (n log n).\n",
    "\n",
    "In the worst-case scenario, heap sort is therefore more effective than bubble sort.</p>"
   ]
  },
  {
   "cell_type": "markdown",
   "id": "43d4a79f",
   "metadata": {},
   "source": [
    "<hr></hr>\n",
    "<h1>References</h1>\n",
    "<hr></hr>\n",
    "<h4>[1] <a href=\"https://brilliant.org/wiki/heap-sort/\">brilliant.org/wiki/heap-sort</a></h4>\n",
    "<h4>[2] <a href=\"https://people.brandeis.edu/~igusa/Math47aF08/M47F08Note09c1.pdf\">people.brandeis.edu/~igusa/Math47aF08/M47F08Note09c1</a></h4>\n",
    "<h4>[3] <a href=\"https://www.mygreatlearning.com/blog/understanding-trees-in-data-structures/\">www.mygreatlearning.com/blog/understanding-trees-in-data-structures/</a></h4>\n",
    "<h4>[4] <a href=\"https://www.geeksforgeeks.org/bubble-sort/\">www.geeksforgeeks.org/bubble-sort</a></h4>"
   ]
  },
  {
   "cell_type": "code",
   "execution_count": null,
   "id": "e5ca3c9d",
   "metadata": {},
   "outputs": [],
   "source": []
  }
 ],
 "metadata": {
  "kernelspec": {
   "display_name": "Python 3 (ipykernel)",
   "language": "python",
   "name": "python3"
  },
  "language_info": {
   "codemirror_mode": {
    "name": "ipython",
    "version": 3
   },
   "file_extension": ".py",
   "mimetype": "text/x-python",
   "name": "python",
   "nbconvert_exporter": "python",
   "pygments_lexer": "ipython3",
   "version": "3.9.12"
  }
 },
 "nbformat": 4,
 "nbformat_minor": 5
}
